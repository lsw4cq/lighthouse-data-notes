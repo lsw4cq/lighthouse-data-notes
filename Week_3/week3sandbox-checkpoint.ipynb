{
 "cells": [
  {
   "cell_type": "code",
   "execution_count": 1,
   "id": "d5059db2-b6c5-4f43-9566-2d0f9beb2bf9",
   "metadata": {},
   "outputs": [
    {
     "name": "stdout",
     "output_type": "stream",
     "text": [
      "Hello Thomas, it's very nice to meet you!\n",
      "Your total bill is: \n",
      "22.8\n",
      "Vancouver looks like a cool place to go!!\n",
      "Montreal looks like a cool place to go!!\n",
      "Calgary looks like a cool place to go!!\n",
      "Toronto looks like a cool place to go!!\n"
     ]
    }
   ],
   "source": [
    "# name is a variable. It contains a string\n",
    "name = \"Thomas\"\n",
    "print(\"Hello \" + name + \", it's very nice to meet you!\")\n",
    "\n",
    "# taxRate, subtotal, tax and total are all variables that contain numbers\n",
    "taxRate = 0.14\n",
    "subtotal = 20\n",
    "tax = subtotal * taxRate\n",
    "total = subtotal + tax\n",
    "print(\"Your total bill is: \")\n",
    "print(total)\n",
    "\n",
    "# travelDestinations is a variable containing a list\n",
    "# city is a variable - its value is changing a few times\n",
    "travelDestinations = [\"Vancouver\",\"Montreal\",\"Calgary\",\"Toronto\"]\n",
    "for city in travelDestinations:\n",
    "    print(city + \" looks like a cool place to go!!\")"
   ]
  },
  {
   "cell_type": "code",
   "execution_count": null,
   "id": "c152a112-668a-4f80-b445-17e51fd228c7",
   "metadata": {},
   "outputs": [],
   "source": []
  }
 ],
 "metadata": {
  "kernelspec": {
   "display_name": "bootcamp",
   "language": "python",
   "name": "bootcamp"
  },
  "language_info": {
   "codemirror_mode": {
    "name": "ipython",
    "version": 3
   },
   "file_extension": ".py",
   "mimetype": "text/x-python",
   "name": "python",
   "nbconvert_exporter": "python",
   "pygments_lexer": "ipython3",
   "version": "3.12.6"
  }
 },
 "nbformat": 4,
 "nbformat_minor": 5
}
