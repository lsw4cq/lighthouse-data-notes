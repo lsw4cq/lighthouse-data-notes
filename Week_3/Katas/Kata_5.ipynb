{
 "cells": [
  {
   "cell_type": "markdown",
   "metadata": {},
   "source": [
    "Create a function named url_encode that will receive a string of words, and return that string with all of the whitespace characters converted to %20. If there is whitespace on the outside of the string, like in our second example above, you should only replace the whitespace within the string. Try"
   ]
  },
  {
   "cell_type": "code",
   "execution_count": 4,
   "metadata": {},
   "outputs": [
    {
     "name": "stdout",
     "output_type": "stream",
     "text": [
      "Lighthouse%20Labs\n",
      "%20Lighthouse%20Labs%20%20\n",
      "blue%20is%20greener%20than%20purple%20for%20sure\n"
     ]
    }
   ],
   "source": [
    "def url_encode(text):\n",
    "    newstring = \"\"\n",
    "    for char in text:\n",
    "        if char == \" \":\n",
    "            newstring += \"%20\"\n",
    "        else:\n",
    "            newstring += char\n",
    "    return newstring\n",
    "\n",
    "\n",
    "print(url_encode(\"Lighthouse Labs\"))\n",
    "print(url_encode(\" Lighthouse Labs  \"))\n",
    "print(url_encode(\"blue is greener than purple for sure\"))"
   ]
  }
 ],
 "metadata": {
  "kernelspec": {
   "display_name": "bootcamp",
   "language": "python",
   "name": "bootcamp"
  },
  "language_info": {
   "codemirror_mode": {
    "name": "ipython",
    "version": 3
   },
   "file_extension": ".py",
   "mimetype": "text/x-python",
   "name": "python",
   "nbconvert_exporter": "python",
   "pygments_lexer": "ipython3",
   "version": "3.12.6"
  }
 },
 "nbformat": 4,
 "nbformat_minor": 2
}
