{
 "cells": [
  {
   "cell_type": "markdown",
   "metadata": {},
   "source": [
    "We need to write a function called whereCanIPark() that returns the coordinates of an available parking spot for the vehicle, or returns false if there is no available spot. Our function receives a list of lists representing parking spots, and a string with type of the vehicle that is looking for a parking spot.\n",
    "\n",
    "There are three kinds of possible vehicles: regular cars, small cars, and motorcycles.\n",
    "\n",
    "* Regular cars can only park in R spots.\n",
    "* Small cars can park in R or S spots.\n",
    "* Motorcycles can park in R, S, or M spots.\n",
    "In the list of parking spots, spots are written in both lower-case and upper-case. An upper-case letter means that the particular spot is AVAILABLE, while lower-case letters mean that the spot is UNAVAILABLE.\n",
    "\n",
    "Our function must return a list with the coordinates of the spot as an [X, Y] pair. See the example input and output below for an illustration."
   ]
  },
  {
   "cell_type": "code",
   "execution_count": 7,
   "metadata": {},
   "outputs": [
    {
     "name": "stdout",
     "output_type": "stream",
     "text": [
      "[0, 4]\n",
      "false\n",
      "[1, 3]\n"
     ]
    }
   ],
   "source": [
    "def whereCanIPark(spots, vehicle):\n",
    "    if vehicle == \"regular\":\n",
    "        canparkin = [\"R\"]\n",
    "    elif vehicle == \"small\":\n",
    "        canparkin = [\"R\", \"S\"]\n",
    "    elif vehicle == \"motorcycle\":\n",
    "        canparkin = [\"R\", \"S\", \"M\"]\n",
    "    for x in range(len(spots)):\n",
    "        for y in range(len(spots[x])):\n",
    "            if spots[x][y] in canparkin:\n",
    "                return [x,y]\n",
    "    return \"false\"\n",
    "    \n",
    "\n",
    "\n",
    "\n",
    "print(whereCanIPark(\n",
    "  [\n",
    "    # COLUMNS ARE Y\n",
    "    # 0    1    2    3    4    5\n",
    "    ['s', 's', 's', 'S', 'R', 'M'], # 0 ROWS ARE X\n",
    "    ['s', 'M', 's', 'S', 'r', 'M'], # 1\n",
    "    ['s', 'M', 's', 'S', 'r', 'm'], # 2\n",
    "    ['S', 'r', 's', 'm', 'r', 'M'], # 3\n",
    "    ['S', 'r', 's', 'm', 'r', 'M'], # 4\n",
    "    ['S', 'r', 'S', 'M', 'M', 'S']  # 5\n",
    "  ],\n",
    "  'regular'\n",
    "))\n",
    "\n",
    "print(whereCanIPark(\n",
    "  [\n",
    "    ['M', 'M', 'M', 'M'],\n",
    "    ['M', 's', 'M', 'M'],\n",
    "    ['M', 'M', 'M', 'M'],\n",
    "    ['M', 'M', 'r', 'M']\n",
    "  ],\n",
    "  'small'\n",
    "))\n",
    "\n",
    "print(whereCanIPark(\n",
    "  [\n",
    "    ['s', 's', 's', 's', 's', 's'],\n",
    "    ['s', 'm', 's', 'S', 'r', 's'],\n",
    "    ['s', 'm', 's', 'S', 'r', 's'],\n",
    "    ['S', 'r', 's', 'm', 'r', 's'],\n",
    "    ['S', 'r', 's', 'm', 'R', 's'],\n",
    "    ['S', 'r', 'S', 'M', 'm', 'S']\n",
    "  ],\n",
    "  'motorcycle'\n",
    "))"
   ]
  }
 ],
 "metadata": {
  "kernelspec": {
   "display_name": "bootcamp",
   "language": "python",
   "name": "bootcamp"
  },
  "language_info": {
   "codemirror_mode": {
    "name": "ipython",
    "version": 3
   },
   "file_extension": ".py",
   "mimetype": "text/x-python",
   "name": "python",
   "nbconvert_exporter": "python",
   "pygments_lexer": "ipython3",
   "version": "3.12.6"
  }
 },
 "nbformat": 4,
 "nbformat_minor": 2
}
