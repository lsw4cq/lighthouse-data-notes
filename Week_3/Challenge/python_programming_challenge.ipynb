{
 "cells": [
  {
   "cell_type": "markdown",
   "metadata": {},
   "source": [
    "# Python Programming Challenge\n",
    "\n",
    "## Poker Hand\n",
    "\n",
    "In this challenge, we have to determine which kind of Poker combination is present in a deck of 5 cards. Every card is a string containing the card value **with the upper-case initial for face-cards** and the **lower-case initial for the suit**, as seen in the examples below:\n",
    "\n",
    "> \"Ah\" ➞ Ace of hearts <br>\n",
    "> \"Ks\" ➞ King of spades<br>\n",
    "> \"3d\" ➞ Three of diamonds<br>\n",
    "> \"Qc\" ➞ Queen of clubs <br>\n",
    "\n",
    "There are 10 different combinations. Here's the list, in descending order of importance:"
   ]
  },
  {
   "cell_type": "markdown",
   "metadata": {},
   "source": [
    "| Name            | Description                                         |\n",
    "|-----------------|-----------------------------------------------------|\n",
    "| Royal Flush     | A, K, Q, J, 10, all with the same suit.             |\n",
    "| Straight Flush  | Five cards in sequence, all with the same suit.     |\n",
    "| Four of a Kind  | Four cards of the same rank.                        |\n",
    "| Full House      | Three of a Kind with a Pair.                        |\n",
    "| Flush           | Any five cards of the same suit, not in sequence    |\n",
    "| Straight        | Five cards in a sequence, but not of the same suit. |\n",
    "| Three of a Kind | Three cards of the same rank.                       |\n",
    "| Two Pair        | Two different Pairs.                                |\n",
    "| Pair            | Two cards of the same rank.                         |\n",
    "| High Card       | No other valid combination.                         |\n",
    "\n",
    "---------"
   ]
  },
  {
   "cell_type": "markdown",
   "metadata": {},
   "source": [
    "#### 1. Given a list `hand` containing five strings being the cards. Implement a function called `poker_hand_ranking` that **returns a string with the name of the highest combination obtained.** According to the table above.\n",
    "\n",
    "**Examples:**\n",
    "\n",
    "> poker_hand_ranking([\"10h\", \"Jh\", \"Qh\", \"Ah\", \"Kh\"]) ➞ \"Royal Flush\"<br>\n",
    "> poker_hand_ranking([\"3h\", \"5h\", \"Qs\", \"9h\", \"Ad\"]) ➞ \"High Card\"<br>\n",
    "> poker_hand_ranking([\"10s\", \"10c\", \"8d\", \"10d\", \"10h\"]) ➞ \"Four of a Kind\"<br>"
   ]
  },
  {
   "cell_type": "code",
   "execution_count": 191,
   "metadata": {},
   "outputs": [
    {
     "data": {
      "text/plain": [
       "9"
      ]
     },
     "execution_count": 191,
     "metadata": {},
     "output_type": "execute_result"
    }
   ],
   "source": [
    "def poker_hand_ranking(hand):\n",
    "    # Establishing variables and dictionarys for entire function\n",
    "    handranking=0\n",
    "    handdictionary={}\n",
    "    ranks=list()\n",
    "    suits=set()\n",
    "    for card in hand:\n",
    "        ranks.append(card[:-1]) \n",
    "        suits.add(card[-1:])\n",
    "        handdictionary[card[:-1]] = card[-1:]\n",
    "    \n",
    "    # Creating a sorting dictionary\n",
    "    cardrankings = {\"1\":1, \"2\":2, \"3\":3, \"4\":4, \"5\":5, \"6\":6, \"7\":7, \"8\":8, \"9\":9, \"10\":10, \"J\":11, \"Q\":12, \"K\":13, \"A\":14}\n",
    "    \n",
    "    #  Sorting ranks based on card rankings\n",
    "    sorted_ranks = sorted([cardrankings[rank] for rank in ranks])\n",
    "    \n",
    "    # Defining a Royal Flush\n",
    "    royalflush={10, 11, 12, 13, 14}\n",
    "   \n",
    "    # Checking for a royal flush\n",
    "    if len(suits)==1 and royalflush.issubset(sorted_ranks):\n",
    "        handranking=1\n",
    "        return handranking\n",
    "        \n",
    "    # Checking for a straight flush\n",
    "    elif len(suits)==1:\n",
    "        if sorted_ranks[4]-sorted_ranks[0]==4:\n",
    "            handranking=2\n",
    "            return handranking\n",
    "\n",
    "\n",
    "    # Checking for four of a kind\n",
    "    total_occurances=0\n",
    "\n",
    "    if len(set(sorted_ranks))==2:\n",
    "        for rank in ranks:\n",
    "            if rank==ranks[0]:\n",
    "                total_occurances+=1\n",
    "        if total_occurances==4:\n",
    "            handranking=3\n",
    "            return handranking\n",
    "\n",
    "        else: \n",
    "            total_occurances=0\n",
    "            for rank in ranks: \n",
    "                if rank==ranks[1]:\n",
    "                    total_occurances+=1\n",
    "            if total_occurances==4:\n",
    "                handranking=3\n",
    "                return handranking\n",
    "    \n",
    "\n",
    "    # Checking for a Full House\n",
    "    count_dictionary={}\n",
    "    if len(set(sorted_ranks))==2:\n",
    "        for rank in ranks:\n",
    "            if rank in count_dictionary:\n",
    "                count_dictionary[rank]+=1\n",
    "            else:\n",
    "                count_dictionary[rank]=1\n",
    "    # Checking for  values 2 and 3 \n",
    "        countvalues=list(count_dictionary.values())\n",
    "        if (countvalues[0]==2 and countvalues[1]==3) or (countvalues[0]==3 and countvalues[1]==2):\n",
    "            handranking=4\n",
    "            return handranking\n",
    "\n",
    "    # Checking for Flush\n",
    "    if len(suits)==1:\n",
    "        handranking=5\n",
    "        return handranking \n",
    "    \n",
    "    # Checking for straight\n",
    "    if sorted_ranks[4]-sorted_ranks[0]==4 and len(set(ranks))==5:\n",
    "        handranking=6\n",
    "        return handranking\n",
    "    \n",
    "    # Checking for Three of a Kind\n",
    "    count_dictionary={}\n",
    "    for rank in ranks:\n",
    "        if rank in count_dictionary:\n",
    "            count_dictionary[rank]+=1\n",
    "        else:\n",
    "            count_dictionary[rank]=1\n",
    "    # Checking for 3 value \n",
    "    countvalues=list(count_dictionary.values())\n",
    "    for countvalue in countvalues:\n",
    "        if countvalue==3:\n",
    "            handranking=7\n",
    "            return handranking\n",
    "\n",
    "    # Checking for two pair\n",
    "    amountofpairs=0\n",
    "    for countvalue in countvalues:\n",
    "        if countvalue==2:\n",
    "            amountofpairs+=1\n",
    "    if amountofpairs==2:\n",
    "        handranking=8\n",
    "        return handranking\n",
    "    elif amountofpairs==1:\n",
    "        handranking=9\n",
    "        return handranking\n",
    "    \n",
    "    handranking=10\n",
    "    return handranking     \n",
    "    \n",
    "\n",
    "poker_hand_ranking([\"10h\", \"Jh\", \"Qh\", \"Ah\", \"Kh\"]) # royal flush\n",
    "poker_hand_ranking([\"3h\", \"5h\", \"Qs\", \"9h\", \"Ad\"])  # nothing\n",
    "poker_hand_ranking([\"3h\", \"5h\", \"3s\", \"9h\", \"5d\"])  # two pair\n",
    "poker_hand_ranking([\"Ks\", \"Qh\", \"9c\", \"9d\", \"9s\"]) # three of a kind\n",
    "poker_hand_ranking([\"3h\", \"5h\", \"Qh\", \"9h\", \"Ah\"]) # flush\n",
    "poker_hand_ranking([\"10s\", \"10c\", \"8d\", \"10d\", \"8h\"]) # full house\n",
    "poker_hand_ranking([\"Ks\", \"9h\", \"9c\", \"9d\", \"9s\"]) # four of a kind\n",
    "poker_hand_ranking([\"10s\", \"9s\", \"Js\", \"Qs\", \"Ks\"]) # straight flush\n",
    "poker_hand_ranking([\"10h\", \"9s\", \"Js\", \"Qs\", \"Ks\"]) # straight\n",
    "poker_hand_ranking([\"10h\", \"10s\", \"Js\", \"Qs\", \"Ks\"]) # pair"
   ]
  },
  {
   "cell_type": "code",
   "execution_count": 200,
   "metadata": {},
   "outputs": [],
   "source": [
    "def handnames(handranking):\n",
    "    if handranking==1:\n",
    "        return \"Royal Flush\"\n",
    "    elif handranking==2:\n",
    "        return \"Straight Flush\"\n",
    "    elif handranking==3:\n",
    "        return \"Four of a Kind\"\n",
    "    elif handranking==4:\n",
    "        return \"Full House\"\n",
    "    elif handranking==5:\n",
    "        return \"Flush\"\n",
    "    elif handranking==6:\n",
    "        return \"Straight\"\n",
    "    elif handranking==7:\n",
    "        return \"Three of a Kind\"\n",
    "    elif handranking==8:\n",
    "        return \"Two Pair\"\n",
    "    elif handranking==9:\n",
    "        return \"Pair\"\n",
    "    elif handranking==10:\n",
    "        return \"High Card\""
   ]
  },
  {
   "cell_type": "markdown",
   "metadata": {},
   "source": [
    "------------\n",
    "### **Stretch Content**\n",
    "\n",
    "#### 2.  Implement a function `winner_is` that returns the winner given a dictionary with different players and their hands. \n",
    "**Example**\n",
    "\n",
    "We define dictionary like\n",
    "```python\n",
    "round_1 = {\"John\" = [\"10h\", \"Jh\", \"Qh\", \"Ah\", \"Kh\"], \n",
    "        \"Peter\" = [\"3h\", \"5h\", \"Qs\", \"9h\", \"Ad\"]}\n",
    "```\n",
    "\n",
    "Our function returns the name of the winner:\n",
    "> winner_is(round_1) --> \"John\"\n",
    "\n",
    "One table can have up to 10 players.\n"
   ]
  },
  {
   "cell_type": "code",
   "execution_count": 201,
   "metadata": {},
   "outputs": [
    {
     "name": "stdout",
     "output_type": "stream",
     "text": [
      "John is the winner with a Royal Flush!\n"
     ]
    }
   ],
   "source": [
    "def winner_is(round):\n",
    "    highesthandrank=10\n",
    "    winner=\"\"\n",
    "    for name, hand in round.items():\n",
    "        handranking = int(poker_hand_ranking(hand))\n",
    "        if handranking < highesthandrank:\n",
    "            highesthandrank = handranking\n",
    "            winner = name\n",
    "            handname=handnames(highesthandrank)\n",
    "    print(f\"{winner} is the winner with a {handname}!\")\n",
    "    return\n",
    "    \n",
    "round_1 = {\"John\" : [\"10h\", \"Jh\", \"Qh\", \"Ah\", \"Kh\"], \"Peter\" : [\"3h\", \"5h\", \"Qs\", \"9h\", \"Ad\"]}\n",
    "\n",
    "winner_is(round_1)"
   ]
  },
  {
   "cell_type": "markdown",
   "metadata": {},
   "source": [
    "#### 3. Create a function `distribute_cards` that randomly generates and gives 5 cards to every player given a list of player names.\n",
    "\n",
    "**Example**\n",
    "\n",
    "> distribute_cards([\"John\",\"Peter\"])  -> round_1 = {\"John\" = [\"10h\", \"Jh\", \"Qh\", \"Ah\", \"Kh\"], \n",
    "        \"Peter\" = [\"3h\", \"5h\", \"Qs\", \"9h\", \"Ad\"]\n",
    "}"
   ]
  },
  {
   "cell_type": "code",
   "execution_count": 214,
   "metadata": {},
   "outputs": [],
   "source": [
    "import random\n",
    "\n",
    "def distribute_cards(names):\n",
    "    deckofcards=['Ah', '2h', '3h', '4h', '5h', '6h', '7h', '8h', '9h', '10h', 'Jh', 'Qh', 'Kh', 'Ad', '2d', '3d', '4d', '5d', '6d', '7d', '8d', '9d', '10d', 'Jd', 'Qd', 'Kd', 'Ac', '2c', '3c', '4c', '5c', '6c', '7c', '8c', '9c', '10c', 'Jc', 'Qc', 'Kc', 'As', '2s', '3s', '4s', '5s', '6s', '7s', '8s', '9s', '10s', 'Js', 'Qs', 'Ks']\n",
    "    random.shuffle(deckofcards)\n",
    "    round_1={name:[] for name in names}\n",
    "    carditeration=0\n",
    "    for _ in range(5):\n",
    "        for name in names:\n",
    "            round_1[name].append(deckofcards[carditeration])\n",
    "            carditeration += 1\n",
    "    return round_1\n",
    "    "
   ]
  },
  {
   "cell_type": "code",
   "execution_count": 215,
   "metadata": {},
   "outputs": [
    {
     "name": "stdout",
     "output_type": "stream",
     "text": [
      "{'Jon': ['10c', '5h', '3d', '8h', '8s'], 'Tyler': ['10s', 'Jc', 'Js', '9c', '4h']}\n"
     ]
    }
   ],
   "source": [
    "print(distribute_cards([\"Jon\",\"Tyler\"]))"
   ]
  }
 ],
 "metadata": {
  "kernelspec": {
   "display_name": "bootcamp",
   "language": "python",
   "name": "bootcamp"
  },
  "language_info": {
   "codemirror_mode": {
    "name": "ipython",
    "version": 3
   },
   "file_extension": ".py",
   "mimetype": "text/x-python",
   "name": "python",
   "nbconvert_exporter": "python",
   "pygments_lexer": "ipython3",
   "version": "3.12.6"
  }
 },
 "nbformat": 4,
 "nbformat_minor": 4
}
