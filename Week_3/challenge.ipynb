{
 "cells": [
  {
   "cell_type": "code",
   "execution_count": 21,
   "metadata": {},
   "outputs": [
    {
     "name": "stdout",
     "output_type": "stream",
     "text": [
      "{'eggs': '3 more', 'milk': '0.5 more', 'butter': '0.1 more'}\n"
     ]
    }
   ],
   "source": [
    "pantry = {'eggs': 6, 'milk': 1,  'flour': 0.5, 'sugar': 0.2}\n",
    "recipe = {'eggs': 3, 'milk': 0.5,  'flour': 1,  'butter': 0.1, 'sugar': 0.3 }\n",
    "shopping_list = {} \n",
    "def shopping_list_creator(pantry, recipe):\n",
    "    for rkey, rvalue in recipe.items():\n",
    "        if rkey in pantry:\n",
    "                if rvalue  < pantry[rkey]:\n",
    "                    itemneeded=pantry[rkey]-rvalue\n",
    "                    shopping_list[rkey]=str(itemneeded)+' more'\n",
    "        else:\n",
    "             shopping_list[rkey]=str(rvalue)+' more'\n",
    "    print(shopping_list) \n",
    "\n",
    "shopping_list_creator(pantry, recipe)"
   ]
  },
  {
   "cell_type": "markdown",
   "metadata": {},
   "source": []
  },
  {
   "cell_type": "code",
   "execution_count": null,
   "metadata": {},
   "outputs": [],
   "source": []
  }
 ],
 "metadata": {
  "kernelspec": {
   "display_name": "bootcamp",
   "language": "python",
   "name": "bootcamp"
  },
  "language_info": {
   "codemirror_mode": {
    "name": "ipython",
    "version": 3
   },
   "file_extension": ".py",
   "mimetype": "text/x-python",
   "name": "python",
   "nbconvert_exporter": "python",
   "pygments_lexer": "ipython3",
   "version": "3.12.6"
  }
 },
 "nbformat": 4,
 "nbformat_minor": 2
}
